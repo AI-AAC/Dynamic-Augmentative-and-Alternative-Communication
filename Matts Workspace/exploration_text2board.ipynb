{
 "cells": [
  {
   "cell_type": "markdown",
   "id": "68b12de0",
   "metadata": {},
   "source": [
    "In one approach, if we have detailed sentences, we can use a dictionary cross reference to categorize items (people, place, thing, etc.) - then use an LLM to generate relevant topics."
   ]
  }
 ],
 "metadata": {
  "language_info": {
   "name": "python"
  }
 },
 "nbformat": 4,
 "nbformat_minor": 5
}
